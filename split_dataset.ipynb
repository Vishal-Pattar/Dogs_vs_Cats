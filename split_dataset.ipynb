{
 "cells": [
  {
   "cell_type": "code",
   "execution_count": 9,
   "metadata": {},
   "outputs": [
    {
     "name": "stdout",
     "output_type": "stream",
     "text": [
      "8750\n",
      "2500\n",
      "1250\n"
     ]
    }
   ],
   "source": [
    "import os\n",
    "import random\n",
    "\n",
    "path = \"./dogs-vs-cats/dataset/cat/\"\n",
    "files = os.listdir(path)\n",
    "ln = len(files)\n",
    "random.shuffle(files)\n",
    "\n",
    "train = files[:int(0.7*ln)]\n",
    "test = files[int(0.7*ln):int(0.9*ln)]\n",
    "valid = files[int(0.9*ln):]\n",
    "\n",
    "print(len(train))\n",
    "print(len(test))\n",
    "print(len(valid))\n",
    "\n",
    "for x in files:\n",
    "    if x in train:\n",
    "        os.rename(path+x, \"./dogs-vs-cats/train/cat/\"+x)\n",
    "    elif x in test:\n",
    "        os.rename(path+x, \"./dogs-vs-cats/test/cat/\"+x)\n",
    "    elif x in valid:\n",
    "        os.rename(path+x, \"./dogs-vs-cats/valid/cat/\"+x)\n",
    "    "
   ]
  }
 ],
 "metadata": {
  "kernelspec": {
   "display_name": "Python 3",
   "language": "python",
   "name": "python3"
  },
  "language_info": {
   "codemirror_mode": {
    "name": "ipython",
    "version": 3
   },
   "file_extension": ".py",
   "mimetype": "text/x-python",
   "name": "python",
   "nbconvert_exporter": "python",
   "pygments_lexer": "ipython3",
   "version": "3.11.5"
  }
 },
 "nbformat": 4,
 "nbformat_minor": 2
}
